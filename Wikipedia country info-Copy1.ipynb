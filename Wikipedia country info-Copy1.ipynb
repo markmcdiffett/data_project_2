{
 "cells": [
  {
   "cell_type": "code",
   "execution_count": null,
   "metadata": {},
   "outputs": [],
   "source": [
    "# Some code to get you started\n",
    "import requests\n",
    "from collections import Counter,defaultdict\n",
    "import wikipedia\n"
   ]
  },
  {
   "cell_type": "code",
   "execution_count": null,
   "metadata": {},
   "outputs": [],
   "source": [
    "country_list = [\"China\",\"India\",\"United_States\",\"Indonesia\",\"Pakistan\",\"Brazil\",\"Nigeria\",\"Bangladesh\",\"Russia\",\"Mexico\",\"Japan\",\"Ethiopia\",\"Phillippines\",\"Egypt\",\"Vietnam\",\"DR_Congo\",\"Iran\",\"Turkey\",\"Germany\",\"France\",\"United_Kingdom\",\"Thailand\",\"South_Africa\",\"Tanzania\",\"Italy\",\"Myanmar\",\"South_Korea\",\"Colombia\",\"Kenya\",\"Spain\",\"Argentina\",\"Algeria\",\"Sudan\",\"Uganda\",\"Ukraine\",\"Iraq\",\"Canada\",\"Poland\",\"Morocco\",\"Uzbekistan\",\"Saudi_Arabia\",\"Peru\",\"Afghanistan\",\"Malaysia\",\"Angola\",\"Mozambique\",\"Ghana\",\"Yemen\",\"Nepal\",\"Venezuela\",\"Ivory_Coast\",\"Madagascar\",\"Australia\",\"North_Korea\",\"Cameroon\",\"Niger\",\"Taiwan\",\"Sri_Lanka\",\"Burkina_Faso\",\"Mali\",\"Chile\",\"Romania\",\"Kazakhstan\",\"Malawi\",\"Zambia\",\"Syria\",\"Ecuador\",\"Netherlands\",\"Senegal\",\"Guatemala\",\"Chad\",\"Somalia\",\"Zimbabwe\",\"Cambodia\",\"South_Sudan\",\"Rwanda\",\"Guinea\",\"Burundi\",\"Benin\",\"Bolivia\",\"Tunisia\",\"Haiti\",\"Belgium\",\"Cuba\",\"Jordan\",\"Greece\",\"Czech_Republic\",\"Dominican_Republic\",\"Sweden\",\"Portugal\",\"Azerbaijan\",\"Hungary\",\"Tajikistan\",\"United_Arab_Emirates\",\"Honduras\",\"Israel\",\"Belarus\",\"Papua_New_Guinea\",\"Austria\",\"Switzerland\",\"Sierra_Leone\"]\n",
    "country_list2 = [\"Togo\",\"Hong_Kong\",\"Paraguay\",\"Laos\",\"Libya\",\"Bulgaria\",\"Serbia\",\"El_Salvador\",\"Lebanon\",\"Krygyzstan\",\"Nicaragua\",\"Turkmenistan\",\"Denmark\",\"Congo\",\"Central_African_Republic\",\"Finland\",\"Slovakia\",\"Singapore\",\"Norway\",\"Palestine\",\"Costa_Rica\",\"New_Zealand\",\"Ireland\",\"Liberia\",\"Kuwait\",\"Oman\",\"Panama\",\"Mauritania\",\"Croatia\",\"Georgia_(country)\",\"Eritrea\"]\n",
    "country_list3 = [\"Uruguay\",\"Mongolia\",\"Bosnia_and_Herzegovina\",\"Armenia\",\"Albania\",\"Lithuania\",\"Jamaica\",\"Moldova\",\"Namibia\",\"Gambia\",\"Botswana\",\"Qatar\",\"Gabon\",\"Lesotho\",\"Slovenia\",\"North_Macedonia\",\"Latvia\",\"Kosovo\",\"Guinea-Bissau\",\"Equatorial_Guinea\",\"Bahrain\",\"Trinidad_and_Tobago\",\"Estonia\",\"East_Timor\",\"Mauritius\",\"Eswatini\",\"Djibouti\",\"Fiji\",\"Cyprus\",\"Comoros\",\"Bhutan\"]\n",
    "country_list.extend(country_list2)\n",
    "country_list.extend(country_list3)"
   ]
  },
  {
   "cell_type": "code",
   "execution_count": null,
   "metadata": {
    "scrolled": false
   },
   "outputs": [],
   "source": [
    "#Scrapes wikipedia for the categories, returns dictionary with form {country,[list of sub_categories]}\n",
    "country_culture_dictionary = defaultdict(list)\n",
    "for country in country_list:\n",
    "    country_culture_list = []\n",
    "    #find length of TOC.   input country.  find total length of TOC for iteration\n",
    "    S = requests.Session()\n",
    "    URL = \"https://en.wikipedia.org/w/api.php\"\n",
    "    TITLE = country\n",
    "    \n",
    "    PARAMS = {\n",
    "    'action': \"parse\",\n",
    "    'page': TITLE,\n",
    "    'prop': 'sections',\n",
    "    'format': \"json\"}\n",
    "    \n",
    "    res = S.get(url=URL, params=PARAMS)\n",
    "    data = res.json()\n",
    "    content = data[\"parse\"][\"sections\"]\n",
    "    length = len(content)\n",
    "    print(country,length)\n",
    "   \n",
    "    #find TOC section \"Culture\"\n",
    "    \n",
    "    i = 1\n",
    "    while i < length:\n",
    "        sub_cultures = []\n",
    "        PARAMS = {\n",
    "        'action': \"parse\",\n",
    "        'page': TITLE,\n",
    "        'prop': 'sections',\n",
    "        'section': i,\n",
    "        'format': \"json\"\n",
    "        }\n",
    "        res = S.get(url=URL, params=PARAMS)\n",
    "        data = res.json()\n",
    "        \n",
    "        \n",
    "        if data[\"parse\"][\"sections\"][0][\"line\"] == \"Culture\":\n",
    "        #Choose the sub_culture headings for all items in \"Culture\"    \n",
    "            \n",
    "            culture_content = (data[\"parse\"][\"sections\"])\n",
    "            print(culture_content)\n",
    "            \n",
    "            for idx, item in enumerate(culture_content):\n",
    "                if idx >= 1:\n",
    "                    country_culture_dictionary[country].append(item[\"line\"])         \n",
    "    \n",
    "        i += 1\n",
    "        \n",
    "        \n",
    "    "
   ]
  },
  {
   "cell_type": "code",
   "execution_count": null,
   "metadata": {},
   "outputs": [],
   "source": [
    "#empty text file\n",
    "with open(\"Wikipedia_Culture_TOC.txt\",\"w\",encoding = \"utf-8\") as file:\n",
    "    file.truncate(0)"
   ]
  },
  {
   "cell_type": "code",
   "execution_count": null,
   "metadata": {},
   "outputs": [],
   "source": [
    "#convert dictionary to text file with format [country   sub_category]\n",
    "with open(\"Wikipedia_Culture_TOC.txt\",\"w\",encoding = \"utf-8\") as file:\n",
    "    for item in country_culture_dictionary.items():\n",
    "        for sub_culture in (item[1]):\n",
    "            file.write(f\"{item[0]} \\t  {sub_culture} \\n\")\n",
    "\n",
    "    "
   ]
  }
 ],
 "metadata": {
  "kernelspec": {
   "display_name": "Python 3",
   "language": "python",
   "name": "python3"
  },
  "language_info": {
   "codemirror_mode": {
    "name": "ipython",
    "version": 3
   },
   "file_extension": ".py",
   "mimetype": "text/x-python",
   "name": "python",
   "nbconvert_exporter": "python",
   "pygments_lexer": "ipython3",
   "version": "3.8.5"
  }
 },
 "nbformat": 4,
 "nbformat_minor": 5
}
